{
 "cells": [
  {
   "cell_type": "markdown",
   "metadata": {},
   "source": [
    "## Challenge 2: Sets\n",
    "\n",
    "There are a lot to learn about Python Sets and the information presented in the lesson is limited due to its length. To learn Python Sets in depth you are strongly encouraged to review the W3Schools tutorial on [Python Sets Examples and Methods](https://www.w3schools.com/python/python_sets.asp) before you work on this lab. Some difficult questions in this lab have their solutions in the W3Schools tutorial.\n",
    "\n",
    "#### First, import the Python `random` libary"
   ]
  },
  {
   "cell_type": "code",
   "execution_count": 1,
   "metadata": {},
   "outputs": [],
   "source": [
    "import random"
   ]
  },
  {
   "cell_type": "markdown",
   "metadata": {},
   "source": [
    "#### In the cell below, create a list named `sample_list_1` with 80 random values. \n",
    "\n",
    "Requirements:\n",
    "\n",
    "* Each value is an integer falling between 0 and 100.\n",
    "* Each value in the list is unique.\n",
    "\n",
    "Print `sample_list_1` to review its values\n",
    "\n",
    "*Hint: use `random.sample` ([reference](https://docs.python.org/3/library/random.html#random.sample)).*"
   ]
  },
  {
   "cell_type": "code",
   "execution_count": 19,
   "metadata": {},
   "outputs": [
    {
     "data": {
      "text/plain": [
       "[78,\n",
       " 94,\n",
       " 48,\n",
       " 11,\n",
       " 97,\n",
       " 92,\n",
       " 77,\n",
       " 60,\n",
       " 75,\n",
       " 81,\n",
       " 95,\n",
       " 35,\n",
       " 72,\n",
       " 91,\n",
       " 77,\n",
       " 6,\n",
       " 65,\n",
       " 7,\n",
       " 38,\n",
       " 60,\n",
       " 1,\n",
       " 59,\n",
       " 33,\n",
       " 85,\n",
       " 45,\n",
       " 93,\n",
       " 90,\n",
       " 21,\n",
       " 78,\n",
       " 64,\n",
       " 0,\n",
       " 87,\n",
       " 16,\n",
       " 78,\n",
       " 87,\n",
       " 64,\n",
       " 28,\n",
       " 79,\n",
       " 51,\n",
       " 42,\n",
       " 0,\n",
       " 79,\n",
       " 47,\n",
       " 62,\n",
       " 40,\n",
       " 19,\n",
       " 21,\n",
       " 73,\n",
       " 31,\n",
       " 81,\n",
       " 79,\n",
       " 33,\n",
       " 89,\n",
       " 10,\n",
       " 32,\n",
       " 2,\n",
       " 97,\n",
       " 42,\n",
       " 68,\n",
       " 46,\n",
       " 50,\n",
       " 64,\n",
       " 97,\n",
       " 49,\n",
       " 22,\n",
       " 70,\n",
       " 94,\n",
       " 59,\n",
       " 54,\n",
       " 14,\n",
       " 33,\n",
       " 24,\n",
       " 96,\n",
       " 67,\n",
       " 75,\n",
       " 42,\n",
       " 5,\n",
       " 9,\n",
       " 33,\n",
       " 36]"
      ]
     },
     "execution_count": 19,
     "metadata": {},
     "output_type": "execute_result"
    }
   ],
   "source": [
    "import random\n",
    "\n",
    "sample_list_1 =[random.randrange(0, 100) for _ in range(80)]\n",
    "\n",
    "sample_list_1"
   ]
  },
  {
   "cell_type": "markdown",
   "metadata": {},
   "source": [
    "#### Convert `sample_list_1` to a set called `set1`. Print the length of the set. Is its length still 80?"
   ]
  },
  {
   "cell_type": "code",
   "execution_count": 17,
   "metadata": {},
   "outputs": [],
   "source": [
    "set1=set(sample_list_1)\n"
   ]
  },
  {
   "cell_type": "code",
   "execution_count": 18,
   "metadata": {},
   "outputs": [
    {
     "data": {
      "text/plain": [
       "set"
      ]
     },
     "execution_count": 18,
     "metadata": {},
     "output_type": "execute_result"
    }
   ],
   "source": [
    "type(set1)"
   ]
  },
  {
   "cell_type": "markdown",
   "metadata": {},
   "source": [
    "#### Create another list named `sample_list_2` with 80 random values.\n",
    "\n",
    "Requirements:\n",
    "\n",
    "* Each value is an integer falling between 0 and 100.\n",
    "* The values in the list don't have to be unique.\n",
    "\n",
    "*Hint: Use a FOR loop.*"
   ]
  },
  {
   "cell_type": "code",
   "execution_count": 20,
   "metadata": {},
   "outputs": [
    {
     "data": {
      "text/plain": [
       "[8,\n",
       " 84,\n",
       " 18,\n",
       " 14,\n",
       " 53,\n",
       " 85,\n",
       " 28,\n",
       " 75,\n",
       " 4,\n",
       " 8,\n",
       " 63,\n",
       " 50,\n",
       " 67,\n",
       " 80,\n",
       " 23,\n",
       " 5,\n",
       " 19,\n",
       " 26,\n",
       " 56,\n",
       " 36,\n",
       " 88,\n",
       " 4,\n",
       " 51,\n",
       " 28,\n",
       " 2,\n",
       " 93,\n",
       " 92,\n",
       " 19,\n",
       " 0,\n",
       " 56,\n",
       " 24,\n",
       " 38,\n",
       " 34,\n",
       " 73,\n",
       " 98,\n",
       " 57,\n",
       " 78,\n",
       " 91,\n",
       " 87,\n",
       " 70,\n",
       " 38,\n",
       " 3,\n",
       " 7,\n",
       " 63,\n",
       " 75,\n",
       " 1,\n",
       " 87,\n",
       " 88,\n",
       " 2,\n",
       " 87,\n",
       " 0,\n",
       " 90,\n",
       " 97,\n",
       " 74,\n",
       " 27,\n",
       " 17,\n",
       " 86,\n",
       " 60,\n",
       " 47,\n",
       " 51,\n",
       " 29,\n",
       " 58,\n",
       " 66,\n",
       " 50,\n",
       " 57,\n",
       " 47,\n",
       " 39,\n",
       " 10,\n",
       " 7,\n",
       " 87,\n",
       " 76,\n",
       " 68,\n",
       " 39,\n",
       " 11,\n",
       " 0,\n",
       " 75,\n",
       " 46,\n",
       " 57,\n",
       " 23,\n",
       " 16]"
      ]
     },
     "execution_count": 20,
     "metadata": {},
     "output_type": "execute_result"
    }
   ],
   "source": [
    "import random\n",
    "\n",
    "sample_list_2 =[random.randrange(0, 100) for _ in range(80)]\n",
    "\n",
    "sample_list_2\n",
    "    \n"
   ]
  },
  {
   "cell_type": "markdown",
   "metadata": {},
   "source": [
    "#### Convert `sample_list_2` to a set called `set2`. Print the length of the set. Is its length still 80?"
   ]
  },
  {
   "cell_type": "code",
   "execution_count": 22,
   "metadata": {},
   "outputs": [
    {
     "data": {
      "text/plain": [
       "set"
      ]
     },
     "execution_count": 22,
     "metadata": {},
     "output_type": "execute_result"
    }
   ],
   "source": [
    "set2=set(sample_list_2) \n",
    "type(set2)"
   ]
  },
  {
   "cell_type": "markdown",
   "metadata": {},
   "source": [
    "#### Identify the elements present in `set1` but not in `set2`. Assign the elements to a new set named `set3`."
   ]
  },
  {
   "cell_type": "code",
   "execution_count": 38,
   "metadata": {},
   "outputs": [
    {
     "name": "stdout",
     "output_type": "stream",
     "text": [
      "{6, 9, 12, 13, 15, 22, 25, 30, 33, 43, 44, 48, 49, 54, 64, 65, 69, 71, 72, 77, 81}\n"
     ]
    }
   ],
   "source": [
    "set3 = (set1.difference(set2))\n",
    "print (set3)"
   ]
  },
  {
   "cell_type": "markdown",
   "metadata": {},
   "source": [
    "#### Identify the elements present in `set2` but not in `set1`. Assign the elements to a new set named `set4`."
   ]
  },
  {
   "cell_type": "code",
   "execution_count": 28,
   "metadata": {},
   "outputs": [
    {
     "name": "stdout",
     "output_type": "stream",
     "text": [
      "{8, 11, 19, 23, 38, 50, 51, 53, 57, 63, 66, 70, 73, 75, 78, 84, 85, 86, 87, 88, 90, 91, 92, 93, 97, 98}\n"
     ]
    }
   ],
   "source": [
    "set4 = (set2.difference(set1))\n",
    "print (set4)\n"
   ]
  },
  {
   "cell_type": "markdown",
   "metadata": {},
   "source": [
    "#### Now Identify the elements shared between `set1` and `set2`. Assign the elements to a new set named `set5`."
   ]
  },
  {
   "cell_type": "code",
   "execution_count": 29,
   "metadata": {},
   "outputs": [
    {
     "name": "stdout",
     "output_type": "stream",
     "text": [
      "[0, 1, 2, 3, 4, 5, 7, 10, 14, 16, 17, 18, 24, 26, 27, 28, 29, 34, 36, 39, 46, 47, 56, 58, 60, 67, 68, 74, 76, 80]\n"
     ]
    }
   ],
   "source": [
    "set5 = list(set1 & set2)\n",
    "print (set5)"
   ]
  },
  {
   "cell_type": "markdown",
   "metadata": {},
   "source": [
    "#### What is the relationship among the following values:\n",
    "\n",
    "* len(set1)\n",
    "* len(set2)\n",
    "* len(set3)\n",
    "* len(set4)\n",
    "* len(set5)\n",
    "\n",
    "Use a math formular to represent that relationship. Test your formular with Python code."
   ]
  },
  {
   "cell_type": "code",
   "execution_count": 31,
   "metadata": {},
   "outputs": [],
   "source": [
    "#set 1 is a random set\n",
    "#set 2 is a random set\n",
    "#set 3 contains all values in 1 and some values in 2\n",
    "#set 4 contains all values in 2 and some values in 1\n",
    "#set 5 contains values that are repeated in both sets\n"
   ]
  },
  {
   "cell_type": "markdown",
   "metadata": {},
   "source": [
    "#### Create an empty set called `set6`."
   ]
  },
  {
   "cell_type": "code",
   "execution_count": 35,
   "metadata": {},
   "outputs": [],
   "source": [
    "set6 = []\n"
   ]
  },
  {
   "cell_type": "markdown",
   "metadata": {},
   "source": [
    "#### Add `set3` and `set5` to `set6` using the Python Set `update` method."
   ]
  },
  {
   "cell_type": "code",
   "execution_count": 44,
   "metadata": {},
   "outputs": [
    {
     "name": "stdout",
     "output_type": "stream",
     "text": [
      "{0, 1, 2, 3, 4, 5, 6, 7, 9, 10, 12, 13, 14, 15, 16, 17, 18, 22, 24, 25, 26, 27, 28, 29, 30, 33, 34, 36, 39, 43, 44, 46, 47, 48, 49, 54, 56, 58, 60, 64, 65, 67, 68, 69, 71, 72, 74, 76, 77, 80, 81}\n"
     ]
    }
   ],
   "source": [
    "set6 = set. union(set3, set5) \n",
    "print (set6)"
   ]
  },
  {
   "cell_type": "markdown",
   "metadata": {},
   "source": [
    "#### Check if `set1` and `set6` are equal."
   ]
  },
  {
   "cell_type": "code",
   "execution_count": 45,
   "metadata": {},
   "outputs": [
    {
     "name": "stdout",
     "output_type": "stream",
     "text": [
      "[0, 1, 2, 3, 4, 5, 6, 7, 9, 10, 12, 13, 14, 15, 16, 17, 18, 22, 24, 25, 26, 27, 28, 29, 30, 33, 34, 36, 39, 43, 44, 46, 47, 48, 49, 54, 56, 58, 60, 64, 65, 67, 68, 69, 71, 72, 74, 76, 77, 80, 81]\n"
     ]
    }
   ],
   "source": [
    "check = list(set1 & set6)\n",
    "print (check)\n",
    "#y miro lo de arriba que coincide "
   ]
  },
  {
   "cell_type": "markdown",
   "metadata": {},
   "source": [
    "#### Check if `set1` contains `set2` using the Python Set `issubset` method. Then check if `set1` contains `set3`.*"
   ]
  },
  {
   "cell_type": "code",
   "execution_count": 46,
   "metadata": {},
   "outputs": [
    {
     "name": "stdout",
     "output_type": "stream",
     "text": [
      "False\n"
     ]
    }
   ],
   "source": [
    "z = set1.issubset(set2) \n",
    "\n",
    "print(z)"
   ]
  },
  {
   "cell_type": "markdown",
   "metadata": {},
   "source": [
    "#### Using the Python Set `union` method, aggregate `set3`, `set4`, and `set5`. Then aggregate `set1` and `set2`. \n",
    "\n",
    "#### Check if the aggregated values are equal."
   ]
  },
  {
   "cell_type": "code",
   "execution_count": 50,
   "metadata": {},
   "outputs": [
    {
     "name": "stdout",
     "output_type": "stream",
     "text": [
      "{6, 8, 9, 11, 12, 13, 15, 19, 22, 23, 25, 30, 33, 38, 43, 44, 48, 49, 50, 51, 53, 54, 57, 63, 64, 65, 66, 69, 70, 71, 72, 73, 75, 77, 78, 81, 84, 85, 86, 87, 88, 90, 91, 92, 93, 97, 98}\n",
      "{0, 1, 2, 3, 4, 5, 6, 7, 8, 9, 10, 11, 12, 13, 14, 15, 16, 17, 18, 19, 22, 23, 24, 25, 26, 27, 28, 29, 30, 33, 34, 36, 38, 39, 43, 44, 46, 47, 48, 49, 50, 51, 53, 54, 56, 57, 58, 60, 63, 64, 65, 66, 67, 68, 69, 70, 71, 72, 73, 74, 75, 76, 77, 78, 80, 81, 84, 85, 86, 87, 88, 90, 91, 92, 93, 97, 98}\n",
      "{0, 1, 2, 3, 4, 5, 6, 7, 9, 10, 12, 13, 14, 15, 16, 17, 18, 22, 24, 25, 26, 27, 28, 29, 30, 33, 34, 36, 39, 43, 44, 46, 47, 48, 49, 54, 56, 58, 60, 64, 65, 67, 68, 69, 71, 72, 74, 76, 77, 80, 81}\n"
     ]
    }
   ],
   "source": [
    "#chapuza\n",
    "\n",
    "set34 = set3.union(set4) \n",
    "\n",
    "print(set34)\n",
    "\n",
    "#ahora bien\n",
    "\n",
    "set345 = set34.union(set5)\n",
    "\n",
    "print(set345)\n",
    "\n",
    "set12 = set1.union(set1)\n",
    "\n",
    "print(set12)\n"
   ]
  },
  {
   "cell_type": "markdown",
   "metadata": {},
   "source": [
    "#### Using the `pop` method, remove the first element from `set1`."
   ]
  },
  {
   "cell_type": "code",
   "execution_count": 58,
   "metadata": {},
   "outputs": [
    {
     "name": "stdout",
     "output_type": "stream",
     "text": [
      "{0, 1, 2, 3, 4, 5, 6, 7, 9, 10, 12, 13, 14, 15, 16, 17, 18, 22, 24, 25, 26, 27, 28, 29, 30, 33, 34, 36, 39, 43, 44, 46, 47, 48, 49, 54, 56, 58, 60, 64, 65, 67, 68, 69, 71, 72, 74, 76, 77, 80, 81}\n",
      "{1, 2, 3, 4, 5, 6, 7, 9, 10, 12, 13, 14, 15, 16, 17, 18, 22, 24, 25, 26, 27, 28, 29, 30, 33, 34, 36, 39, 43, 44, 46, 47, 48, 49, 54, 56, 58, 60, 64, 65, 67, 68, 69, 71, 72, 74, 76, 77, 80, 81}\n"
     ]
    }
   ],
   "source": [
    "print(set1)\n",
    "set1.pop()\n",
    "print(set1)"
   ]
  },
  {
   "cell_type": "markdown",
   "metadata": {},
   "source": [
    "#### Remove every element in the following list from `set1` if they are present in the set. Print the remaining elements.\n",
    "\n",
    "```\n",
    "list_to_remove = [1, 9, 11, 19, 21, 29, 31, 39, 41, 49, 51, 59, 61, 69, 71, 79, 81, 89, 91, 99]\n",
    "```"
   ]
  },
  {
   "cell_type": "code",
   "execution_count": 52,
   "metadata": {},
   "outputs": [],
   "source": [
    "list_to_remove = [1, 9, 11, 19, 21, 29, 31, 39, 41, 49, 51, 59, 61, 69, 71, 79, 81, 89, 91, 99]\n"
   ]
  },
  {
   "cell_type": "code",
   "execution_count": 55,
   "metadata": {},
   "outputs": [],
   "source": [
    "new_list = []\n",
    "for a in set1:\n",
    "    if a not in list_to_remove:\n",
    "        new_list.append(a)"
   ]
  },
  {
   "cell_type": "code",
   "execution_count": 56,
   "metadata": {},
   "outputs": [
    {
     "name": "stdout",
     "output_type": "stream",
     "text": [
      "[0, 2, 3, 4, 5, 6, 7, 10, 12, 13, 14, 15, 16, 17, 18, 22, 24, 25, 26, 27, 28, 30, 33, 34, 36, 43, 44, 46, 47, 48, 54, 56, 58, 60, 64, 65, 67, 68, 72, 74, 76, 77, 80]\n"
     ]
    }
   ],
   "source": [
    "print(new_list)\n",
    "#se que esto no es un remove sino otra lista"
   ]
  }
 ],
 "metadata": {
  "kernelspec": {
   "display_name": "Python 3",
   "language": "python",
   "name": "python3"
  },
  "language_info": {
   "codemirror_mode": {
    "name": "ipython",
    "version": 3
   },
   "file_extension": ".py",
   "mimetype": "text/x-python",
   "name": "python",
   "nbconvert_exporter": "python",
   "pygments_lexer": "ipython3",
   "version": "3.9.2"
  }
 },
 "nbformat": 4,
 "nbformat_minor": 2
}
