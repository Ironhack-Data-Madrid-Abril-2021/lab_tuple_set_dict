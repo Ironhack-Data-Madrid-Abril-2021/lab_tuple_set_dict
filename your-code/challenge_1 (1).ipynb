{
  "nbformat": 4,
  "nbformat_minor": 0,
  "metadata": {
    "kernelspec": {
      "display_name": "Python 3",
      "language": "python",
      "name": "python3"
    },
    "language_info": {
      "codemirror_mode": {
        "name": "ipython",
        "version": 3
      },
      "file_extension": ".py",
      "mimetype": "text/x-python",
      "name": "python",
      "nbconvert_exporter": "python",
      "pygments_lexer": "ipython3",
      "version": "3.7.2"
    },
    "colab": {
      "name": "challenge-1.ipynb",
      "provenance": [],
      "collapsed_sections": []
    }
  },
  "cells": [
    {
      "cell_type": "markdown",
      "metadata": {
        "id": "Ewk3yK4E_r0P"
      },
      "source": [
        "## Challenge 1: Tuples\n",
        "\n",
        "#### Do you know you can create tuples with only one element?\n",
        "\n",
        "**In the cell below, define a variable `tup` with a single element `\"I\"`.**\n",
        "\n",
        "*Hint: you need to add a comma (`,`) after the single element.*"
      ]
    },
    {
      "cell_type": "markdown",
      "metadata": {
        "id": "BSZdFEaLACgy"
      },
      "source": [
        ""
      ]
    },
    {
      "cell_type": "markdown",
      "metadata": {
        "id": "g0XfAEfP_r0b"
      },
      "source": [
        "#### Print the type of `tup`. \n",
        "\n",
        "Make sure its type is correct (i.e. *tuple* instead of *str*)."
      ]
    },
    {
      "cell_type": "code",
      "metadata": {
        "id": "C9W2xsAL_r0c",
        "colab": {
          "base_uri": "https://localhost:8080/"
        },
        "outputId": "9345e8bc-dd18-4b19-e7fe-74cd7a40eb48"
      },
      "source": [
        "tup = ('I', )\n",
        "print (tup)\n",
        "print (type(tup))\n",
        "\n"
      ],
      "execution_count": null,
      "outputs": [
        {
          "output_type": "stream",
          "text": [
            "('I',)\n",
            "<class 'tuple'>\n"
          ],
          "name": "stdout"
        }
      ]
    },
    {
      "cell_type": "markdown",
      "metadata": {
        "id": "0yVVN1oI_r0c"
      },
      "source": [
        "#### Now try to append the following elements to `tup`. \n",
        "\n",
        "Are you able to do it? Explain.\n",
        "\n",
        "```\n",
        "\"r\", \"o\", \"n\", \"h\", \"a\", \"c\", \"k',\n",
        "```"
      ]
    },
    {
      "cell_type": "code",
      "metadata": {
        "id": "0ADmSTwl_r0c",
        "colab": {
          "base_uri": "https://localhost:8080/"
        },
        "outputId": "a4e65bf9-ff09-434b-d6c3-28ae8bbefe0d"
      },
      "source": [
        "elements = ['r', 'o', 'n', 'h', 'a', 'c', 'k']\n",
        "tup = ('I', )\n",
        "l = list(tup)\n",
        "for i in elements:\n",
        "    l.append(i)\n",
        "print (l)\n",
        "    # Your explanation here\n",
        "\n"
      ],
      "execution_count": null,
      "outputs": [
        {
          "output_type": "stream",
          "text": [
            "['I', 'r', 'o', 'n', 'h', 'a', 'c', 'k']\n"
          ],
          "name": "stdout"
        }
      ]
    },
    {
      "cell_type": "markdown",
      "metadata": {
        "id": "CPg7SP4Xcizf"
      },
      "source": [
        "Tuples are immutable. Thus any operation that tries to modify it (like append) won't work.\n",
        "Steps to follow: convert the tuple to list by building-in function list(). Then append the item to list object. Then use another built-in function tuple() to convert the list back to tuple."
      ]
    },
    {
      "cell_type": "markdown",
      "metadata": {
        "id": "9zFV_CVj_r0d"
      },
      "source": [
        "#### How about re-assign a new value to an existing tuple?\n",
        "\n",
        "Re-assign the following elements to `tup`. Are you able to do it? Explain.\n",
        "\n",
        "```\n",
        "\"I\", \"r\", \"o\", \"n\", \"h\", \"a\", \"c\", \"k\"\n",
        "```"
      ]
    },
    {
      "cell_type": "code",
      "metadata": {
        "id": "wl_g06Cj_r0d",
        "colab": {
          "base_uri": "https://localhost:8080/",
          "height": 235
        },
        "outputId": "a5d66cde-9b47-4317-e1b6-f7365a013537"
      },
      "source": [
        "list1=list(tup)\n",
        "list1.append(\"I\")\n",
        "list1.append(\"r\")\n",
        "list1.append(\"o\")\n",
        "list1.append(\"n\")\n",
        "list1.append(\"h\")\n",
        "list1.append(\"a\")\n",
        "list1.append(\"c\")\n",
        "list1.append(\"k\")\n",
        "print(list1)"
      ],
      "execution_count": null,
      "outputs": [
        {
          "output_type": "error",
          "ename": "TypeError",
          "evalue": "ignored",
          "traceback": [
            "\u001b[0;31m---------------------------------------------------------------------------\u001b[0m",
            "\u001b[0;31mTypeError\u001b[0m                                 Traceback (most recent call last)",
            "\u001b[0;32m<ipython-input-22-10cb1c59ab80>\u001b[0m in \u001b[0;36m<module>\u001b[0;34m()\u001b[0m\n\u001b[0;32m----> 1\u001b[0;31m \u001b[0mlist1\u001b[0m\u001b[0;34m=\u001b[0m\u001b[0mlist\u001b[0m\u001b[0;34m(\u001b[0m\u001b[0mtup\u001b[0m\u001b[0;34m)\u001b[0m\u001b[0;34m\u001b[0m\u001b[0;34m\u001b[0m\u001b[0m\n\u001b[0m\u001b[1;32m      2\u001b[0m \u001b[0mlist1\u001b[0m\u001b[0;34m.\u001b[0m\u001b[0mappend\u001b[0m\u001b[0;34m(\u001b[0m\u001b[0;34m\"I\"\u001b[0m\u001b[0;34m)\u001b[0m\u001b[0;34m\u001b[0m\u001b[0;34m\u001b[0m\u001b[0m\n\u001b[1;32m      3\u001b[0m \u001b[0mlist1\u001b[0m\u001b[0;34m.\u001b[0m\u001b[0mappend\u001b[0m\u001b[0;34m(\u001b[0m\u001b[0;34m\"r\"\u001b[0m\u001b[0;34m)\u001b[0m\u001b[0;34m\u001b[0m\u001b[0;34m\u001b[0m\u001b[0m\n\u001b[1;32m      4\u001b[0m \u001b[0mlist1\u001b[0m\u001b[0;34m.\u001b[0m\u001b[0mappend\u001b[0m\u001b[0;34m(\u001b[0m\u001b[0;34m\"o\"\u001b[0m\u001b[0;34m)\u001b[0m\u001b[0;34m\u001b[0m\u001b[0;34m\u001b[0m\u001b[0m\n\u001b[1;32m      5\u001b[0m \u001b[0mlist1\u001b[0m\u001b[0;34m.\u001b[0m\u001b[0mappend\u001b[0m\u001b[0;34m(\u001b[0m\u001b[0;34m\"n\"\u001b[0m\u001b[0;34m)\u001b[0m\u001b[0;34m\u001b[0m\u001b[0;34m\u001b[0m\u001b[0m\n",
            "\u001b[0;31mTypeError\u001b[0m: 'tuple' object is not callable"
          ]
        }
      ]
    },
    {
      "cell_type": "markdown",
      "metadata": {
        "id": "5QLvahJv_r0e"
      },
      "source": [
        "#### Split `tup` into `tup1` and `tup2` with 4 elements in each. \n",
        "\n",
        "`tup1` should be `(\"I\", \"r\", \"o\", \"n\")` and `tup2` should be `(\"h\", \"a\", \"c\", \"k\")`.\n",
        "\n",
        "*Hint: use positive index numbers for `tup1` assignment and use negative index numbers for `tup2` assignment. Positive index numbers count from the beginning whereas negative index numbers count from the end of the sequence.*\n",
        "\n",
        "Also print `tup1` and `tup2`."
      ]
    },
    {
      "cell_type": "code",
      "metadata": {
        "id": "YnDTgiT8_r0e",
        "colab": {
          "base_uri": "https://localhost:8080/"
        },
        "outputId": "e210bc19-0c99-4df4-8da2-893c57fa4206"
      },
      "source": [
        "tup = ['I', 'r', 'o', 'n', 'h', 'a', 'c', 'k']\n",
        "lst = []\n",
        "for i in range (0,8,4):\n",
        "    lst.append((tup[i:i+4]))\n",
        "print(lst)"
      ],
      "execution_count": null,
      "outputs": [
        {
          "output_type": "stream",
          "text": [
            "[['I', 'r', 'o', 'n'], ['h', 'a', 'c', 'k']]\n"
          ],
          "name": "stdout"
        }
      ]
    },
    {
      "cell_type": "markdown",
      "metadata": {
        "id": "Q-b5TPMf_r0e"
      },
      "source": [
        "#### Add `tup1` and `tup2` into `tup3` using the `+` operator.\n",
        "\n",
        "Then print `tup3` and check if `tup3` equals to `tup`."
      ]
    },
    {
      "cell_type": "code",
      "metadata": {
        "id": "x3DNuv3k_r0f",
        "colab": {
          "base_uri": "https://localhost:8080/"
        },
        "outputId": "02e88367-a0c4-405d-c3a5-beaa760c052e"
      },
      "source": [
        "tup1=['I', 'r', 'o', 'n']\n",
        "tup2=['h', 'a', 'c', 'k']\n",
        "print(tup1 + tup2)\n",
        "\n",
        "if tup == tup1 + tup2: \n",
        "    print (True)\n",
        "else: \n",
        "    print (False)"
      ],
      "execution_count": null,
      "outputs": [
        {
          "output_type": "stream",
          "text": [
            "['I', 'r', 'o', 'n', 'h', 'a', 'c', 'k']\n",
            "True\n"
          ],
          "name": "stdout"
        }
      ]
    },
    {
      "cell_type": "markdown",
      "metadata": {
        "id": "zMevPLpH_r0f"
      },
      "source": [
        "#### Count the number of elements in `tup1` and `tup2`. Then add the two counts together and check if the sum is the same as the number of elements in `tup3`"
      ]
    },
    {
      "cell_type": "code",
      "metadata": {
        "id": "1jINlj8N_r0f",
        "colab": {
          "base_uri": "https://localhost:8080/"
        },
        "outputId": "d6cacd15-6491-4539-a144-59fbb3639ba0"
      },
      "source": [
        "tup3 = tup1 + tup2\n",
        "\n",
        "len(tup1)\n",
        "len(tup2)\n",
        "len(tup3)\n",
        "if len(tup3) == (len(tup1)+len(tup2)):\n",
        "    print (True)\n",
        "else:\n",
        "    print (False)"
      ],
      "execution_count": null,
      "outputs": [
        {
          "output_type": "stream",
          "text": [
            "True\n"
          ],
          "name": "stdout"
        }
      ]
    },
    {
      "cell_type": "markdown",
      "metadata": {
        "id": "nZHXlK1p_r0g"
      },
      "source": [
        "#### What is the index number of `\"h\"` in `tup3`?"
      ]
    },
    {
      "cell_type": "code",
      "metadata": {
        "id": "LkV8J-3X_r0g",
        "colab": {
          "base_uri": "https://localhost:8080/"
        },
        "outputId": "3e811cb4-3a59-4e00-f77a-6d7004a60693"
      },
      "source": [
        "tup3.index('h')\n"
      ],
      "execution_count": null,
      "outputs": [
        {
          "output_type": "execute_result",
          "data": {
            "text/plain": [
              "4"
            ]
          },
          "metadata": {
            "tags": []
          },
          "execution_count": 20
        }
      ]
    },
    {
      "cell_type": "markdown",
      "metadata": {
        "id": "7JEIYrt2_r0g"
      },
      "source": [
        "#### Now, use a FOR loop to check whether each letter in the following list is present in `tup3`:\n",
        "\n",
        "```\n",
        "letters = [\"a\", \"b\", \"c\", \"d\", \"e\"]\n",
        "```\n",
        "\n",
        "For each letter you check, print `True` if it is present in `tup3` otherwise print `False`.\n",
        "\n",
        "*Hint: you only need to loop `letters`. You don't need to loop `tup3` because there is a Python operator `in` you can use. See [reference](https://stackoverflow.com/questions/17920147/how-to-check-if-a-tuple-contains-an-element-in-python).*"
      ]
    },
    {
      "cell_type": "code",
      "metadata": {
        "id": "OrPD-IkH_r0g",
        "colab": {
          "base_uri": "https://localhost:8080/"
        },
        "outputId": "ae5c2769-9337-47ea-cb94-4d0e36da93d9"
      },
      "source": [
        "letters = ['a', 'b', 'c', 'd', 'e']\n",
        "if (any('letters' in i for i in tup3)):\n",
        "    print (True)\n",
        "else:\n",
        "    print (False)"
      ],
      "execution_count": null,
      "outputs": [
        {
          "output_type": "stream",
          "text": [
            "False\n"
          ],
          "name": "stdout"
        }
      ]
    },
    {
      "cell_type": "markdown",
      "metadata": {
        "id": "a_GOSCD9_r0h"
      },
      "source": [
        "#### How many times does each letter in `letters` appear in `tup3`?\n",
        "\n",
        "Print out the number of occurrence of each letter."
      ]
    },
    {
      "cell_type": "code",
      "metadata": {
        "id": "yesBpmuD_r0h",
        "colab": {
          "base_uri": "https://localhost:8080/"
        },
        "outputId": "6c531a4d-35f3-4727-aecc-d5f317dcc292"
      },
      "source": [
        " \n",
        " def Count(letters, en): \n",
        "    return letters.count(en) \n",
        "  \n",
        "letters = ['a', 'b', 'c', 'd', 'e']\n",
        "enq0 = 'a'\n",
        "enq1 = 'b'\n",
        "enq2 = 'c'\n",
        "enq3 = 'd'\n",
        "enq4 = 'e'\n",
        "print(Count(letters, enq0), \"times\") \n",
        "print(Count(letters, enq1), \"times\") \n",
        "print(Count(letters, enq2), \"times\")\n",
        "print(Count(letters, enq3), \"times\") \n",
        "print(Count(letters, enq4), \"times\")\n"
      ],
      "execution_count": null,
      "outputs": [
        {
          "output_type": "stream",
          "text": [
            "1 times\n",
            "1 times\n",
            "1 times\n",
            "1 times\n",
            "1 times\n"
          ],
          "name": "stdout"
        }
      ]
    }
  ]
}