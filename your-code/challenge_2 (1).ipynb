{
  "nbformat": 4,
  "nbformat_minor": 0,
  "metadata": {
    "kernelspec": {
      "display_name": "Python 3",
      "language": "python",
      "name": "python3"
    },
    "language_info": {
      "codemirror_mode": {
        "name": "ipython",
        "version": 3
      },
      "file_extension": ".py",
      "mimetype": "text/x-python",
      "name": "python",
      "nbconvert_exporter": "python",
      "pygments_lexer": "ipython3",
      "version": "3.7.2"
    },
    "colab": {
      "name": "challenge-2.ipynb",
      "provenance": [],
      "collapsed_sections": []
    }
  },
  "cells": [
    {
      "cell_type": "markdown",
      "metadata": {
        "id": "abr1eCH0V0Lo"
      },
      "source": [
        "## Challenge 2: Sets\n",
        "\n",
        "There are a lot to learn about Python Sets and the information presented in the lesson is limited due to its length. To learn Python Sets in depth you are strongly encouraged to review the W3Schools tutorial on [Python Sets Examples and Methods](https://www.w3schools.com/python/python_sets.asp) before you work on this lab. Some difficult questions in this lab have their solutions in the W3Schools tutorial.\n",
        "\n",
        "#### First, import the Python `random` libary"
      ]
    },
    {
      "cell_type": "code",
      "metadata": {
        "id": "0szZgJ3SV0MB"
      },
      "source": [
        "import random"
      ],
      "execution_count": null,
      "outputs": []
    },
    {
      "cell_type": "markdown",
      "metadata": {
        "id": "NTMy7_FPV0MD"
      },
      "source": [
        "#### In the cell below, create a list named `sample_list_1` with 80 random values. \n",
        "\n",
        "Requirements:\n",
        "\n",
        "* Each value is an integer falling between 0 and 100.\n",
        "* Each value in the list is unique.\n",
        "\n",
        "Print `sample_list_1` to review its values\n",
        "\n",
        "*Hint: use `random.sample` ([reference](https://docs.python.org/3/library/random.html#random.sample)).*"
      ]
    },
    {
      "cell_type": "code",
      "metadata": {
        "id": "XSOOTSowV0MD",
        "colab": {
          "base_uri": "https://localhost:8080/"
        },
        "outputId": "aff178f9-d851-4d6a-fd21-eb06c92ed1ec"
      },
      "source": [
        "# Your code here\n",
        "import random\n",
        "sample_list_1 = random.sample(range(100), 80)\n",
        "print(sample_list_1)"
      ],
      "execution_count": null,
      "outputs": [
        {
          "output_type": "stream",
          "text": [
            "[51, 72, 69, 4, 94, 39, 68, 17, 7, 54, 78, 60, 33, 59, 96, 8, 84, 92, 10, 28, 13, 61, 6, 89, 52, 27, 70, 9, 45, 18, 11, 24, 63, 37, 88, 64, 5, 19, 62, 49, 42, 55, 46, 80, 20, 90, 56, 83, 22, 23, 38, 15, 41, 43, 65, 48, 91, 97, 53, 26, 79, 95, 73, 67, 36, 99, 75, 74, 12, 81, 76, 98, 40, 31, 35, 93, 0, 77, 2, 3]\n"
          ],
          "name": "stdout"
        }
      ]
    },
    {
      "cell_type": "markdown",
      "metadata": {
        "id": "7ulZxIquV0ME"
      },
      "source": [
        "#### Convert `sample_list_1` to a set called `set1`. Print the length of the set. Is its length still 80?"
      ]
    },
    {
      "cell_type": "code",
      "metadata": {
        "id": "esJJ0-HkV0MF",
        "colab": {
          "base_uri": "https://localhost:8080/"
        },
        "outputId": "8da46661-022a-4206-8d6f-2392dcdb28b8"
      },
      "source": [
        "# Your code here\n",
        "set1 = set(sample_list_1)\n",
        "print(set(sample_list_1))\n",
        "len(set1)"
      ],
      "execution_count": null,
      "outputs": [
        {
          "output_type": "stream",
          "text": [
            "{0, 2, 3, 4, 5, 6, 7, 8, 9, 10, 11, 12, 13, 15, 17, 18, 19, 20, 22, 23, 24, 26, 27, 28, 31, 33, 35, 36, 37, 38, 39, 40, 41, 42, 43, 45, 46, 48, 49, 51, 52, 53, 54, 55, 56, 59, 60, 61, 62, 63, 64, 65, 67, 68, 69, 70, 72, 73, 74, 75, 76, 77, 78, 79, 80, 81, 83, 84, 88, 89, 90, 91, 92, 93, 94, 95, 96, 97, 98, 99}\n"
          ],
          "name": "stdout"
        },
        {
          "output_type": "execute_result",
          "data": {
            "text/plain": [
              "80"
            ]
          },
          "metadata": {
            "tags": []
          },
          "execution_count": 12
        }
      ]
    },
    {
      "cell_type": "markdown",
      "metadata": {
        "id": "EOKKxWXMV0MF"
      },
      "source": [
        "#### Create another list named `sample_list_2` with 80 random values.\n",
        "\n",
        "Requirements:\n",
        "\n",
        "* Each value is an integer falling between 0 and 100.\n",
        "* The values in the list don't have to be unique.\n",
        "\n",
        "*Hint: Use a FOR loop.*"
      ]
    },
    {
      "cell_type": "code",
      "metadata": {
        "id": "6Bz9X4FrV0MG",
        "colab": {
          "base_uri": "https://localhost:8080/"
        },
        "outputId": "a22629c9-3995-435f-cee3-fc1b25bfee86"
      },
      "source": [
        "# Your code here\n",
        "import random\n",
        "sample_list_2 =[]\n",
        "for i in range(80):\n",
        "    sample_list_2.append (random.randint(0,101))\n",
        "print (sample_list_2)"
      ],
      "execution_count": null,
      "outputs": [
        {
          "output_type": "stream",
          "text": [
            "[30, 11, 17, 42, 81, 39, 10, 27, 33, 63, 21, 62, 68, 21, 63, 15, 13, 63, 95, 90, 75, 64, 27, 25, 52, 64, 40, 16, 13, 37, 90, 48, 6, 98, 64, 5, 43, 17, 7, 97, 8, 18, 47, 57, 27, 70, 7, 43, 70, 19, 0, 50, 31, 28, 13, 56, 101, 56, 3, 59, 75, 95, 0, 42, 68, 90, 38, 2, 5, 65, 96, 0, 18, 47, 78, 65, 66, 56, 51, 67]\n"
          ],
          "name": "stdout"
        }
      ]
    },
    {
      "cell_type": "markdown",
      "metadata": {
        "id": "-SZE6J2SV0MG"
      },
      "source": [
        "#### Convert `sample_list_2` to a set called `set2`. Print the length of the set. Is its length still 80?"
      ]
    },
    {
      "cell_type": "code",
      "metadata": {
        "id": "Ws4QOB06V0MH",
        "colab": {
          "base_uri": "https://localhost:8080/"
        },
        "outputId": "d7fc90f0-7924-48eb-d3fb-676ce218f150"
      },
      "source": [
        "# Your code here\n",
        "set2 = set(sample_list_2)\n",
        "print(set(sample_list_2))\n",
        "len(set2)"
      ],
      "execution_count": null,
      "outputs": [
        {
          "output_type": "stream",
          "text": [
            "{0, 2, 3, 5, 6, 7, 8, 10, 11, 13, 15, 16, 17, 18, 19, 21, 25, 27, 28, 30, 31, 33, 37, 38, 39, 40, 42, 43, 47, 48, 50, 51, 52, 56, 57, 59, 62, 63, 64, 65, 66, 67, 68, 70, 75, 78, 81, 90, 95, 96, 97, 98, 101}\n"
          ],
          "name": "stdout"
        },
        {
          "output_type": "execute_result",
          "data": {
            "text/plain": [
              "53"
            ]
          },
          "metadata": {
            "tags": []
          },
          "execution_count": 14
        }
      ]
    },
    {
      "cell_type": "markdown",
      "metadata": {
        "id": "sTyx39XuV0MH"
      },
      "source": [
        "#### Identify the elements present in `set1` but not in `set2`. Assign the elements to a new set named `set3`."
      ]
    },
    {
      "cell_type": "code",
      "metadata": {
        "id": "p5JjF6RsV0MI",
        "colab": {
          "base_uri": "https://localhost:8080/"
        },
        "outputId": "ddff6399-104c-4345-c94e-23395fbbd25c"
      },
      "source": [
        "# Your code here\n",
        "set3 = set2.difference(set1)\n",
        "print (set3)"
      ],
      "execution_count": null,
      "outputs": [
        {
          "output_type": "stream",
          "text": [
            "{66, 101, 47, 16, 50, 21, 25, 30, 57}\n"
          ],
          "name": "stdout"
        }
      ]
    },
    {
      "cell_type": "markdown",
      "metadata": {
        "id": "2yWEeRkxV0MI"
      },
      "source": [
        "#### Identify the elements present in `set2` but not in `set1`. Assign the elements to a new set named `set4`."
      ]
    },
    {
      "cell_type": "code",
      "metadata": {
        "id": "4rCeXZcFV0MI",
        "colab": {
          "base_uri": "https://localhost:8080/"
        },
        "outputId": "3e1dcba2-6c06-42da-de26-35a8cfc7c970"
      },
      "source": [
        "# Your code here\n",
        "set4 = set1.difference(set2)\n",
        "print (set4)"
      ],
      "execution_count": null,
      "outputs": [
        {
          "output_type": "stream",
          "text": [
            "{4, 9, 12, 20, 22, 23, 24, 26, 35, 36, 41, 45, 46, 49, 53, 54, 55, 60, 61, 69, 72, 73, 74, 76, 77, 79, 80, 83, 84, 88, 89, 91, 92, 93, 94, 99}\n"
          ],
          "name": "stdout"
        }
      ]
    },
    {
      "cell_type": "markdown",
      "metadata": {
        "id": "FSJM0CglV0MJ"
      },
      "source": [
        "#### Now Identify the elements shared between `set1` and `set2`. Assign the elements to a new set named `set5`."
      ]
    },
    {
      "cell_type": "code",
      "metadata": {
        "id": "TQldJp3eV0MJ",
        "colab": {
          "base_uri": "https://localhost:8080/"
        },
        "outputId": "b9a3965b-2858-4992-b44d-345db33ea580"
      },
      "source": [
        "# Your code here\n",
        "set5 = set1.intersection(set2)\n",
        "print (set5)"
      ],
      "execution_count": null,
      "outputs": [
        {
          "output_type": "stream",
          "text": [
            "{0, 2, 3, 5, 6, 7, 8, 10, 11, 13, 15, 17, 18, 19, 27, 28, 31, 33, 37, 38, 39, 40, 42, 43, 48, 51, 52, 56, 59, 62, 63, 64, 65, 67, 68, 70, 75, 78, 81, 90, 95, 96, 97, 98}\n"
          ],
          "name": "stdout"
        }
      ]
    },
    {
      "cell_type": "markdown",
      "metadata": {
        "id": "3FAssZ_iV0MJ"
      },
      "source": [
        "#### What is the relationship among the following values:\n",
        "\n",
        "* len(set1)\n",
        "* len(set2)\n",
        "* len(set3)\n",
        "* len(set4)\n",
        "* len(set5)\n",
        "\n",
        "Use a math formular to represent that relationship. Test your formular with Python code."
      ]
    },
    {
      "cell_type": "code",
      "metadata": {
        "id": "jDSZyEGGV0MK"
      },
      "source": [
        "# Your code here"
      ],
      "execution_count": null,
      "outputs": []
    },
    {
      "cell_type": "markdown",
      "metadata": {
        "id": "0zgUur7hV0ML"
      },
      "source": [
        "#### Create an empty set called `set6`."
      ]
    },
    {
      "cell_type": "code",
      "metadata": {
        "id": "YBFLj-8jV0MM",
        "colab": {
          "base_uri": "https://localhost:8080/"
        },
        "outputId": "aa2aa7bc-0476-45e4-b519-c4231e374049"
      },
      "source": [
        "# Your code here\n",
        "set6 = set()\n",
        "print (set6)"
      ],
      "execution_count": null,
      "outputs": [
        {
          "output_type": "stream",
          "text": [
            "set()\n"
          ],
          "name": "stdout"
        }
      ]
    },
    {
      "cell_type": "markdown",
      "metadata": {
        "id": "pDVg1Fx-V0MM"
      },
      "source": [
        "#### Add `set3` and `set5` to `set6` using the Python Set `update` method."
      ]
    },
    {
      "cell_type": "code",
      "metadata": {
        "id": "QcKJzJPUV0MN",
        "colab": {
          "base_uri": "https://localhost:8080/"
        },
        "outputId": "0aea0e72-9a8c-4ab5-e15a-c46ed62de7f1"
      },
      "source": [
        "# Your code here\n",
        "set6.update(set3, set5)\n",
        "print(\"set6 is:\",set6)"
      ],
      "execution_count": null,
      "outputs": [
        {
          "output_type": "stream",
          "text": [
            "set6 is: {0, 2, 3, 5, 6, 7, 8, 10, 11, 13, 15, 16, 17, 18, 19, 21, 25, 27, 28, 30, 31, 33, 37, 38, 39, 40, 42, 43, 47, 48, 50, 51, 52, 56, 57, 59, 62, 63, 64, 65, 66, 67, 68, 70, 75, 78, 81, 90, 95, 96, 97, 98, 101}\n"
          ],
          "name": "stdout"
        }
      ]
    },
    {
      "cell_type": "markdown",
      "metadata": {
        "id": "P530w4C7V0MO"
      },
      "source": [
        "#### Check if `set1` and `set6` are equal."
      ]
    },
    {
      "cell_type": "code",
      "metadata": {
        "id": "_JG0B2vlV0MP",
        "colab": {
          "base_uri": "https://localhost:8080/"
        },
        "outputId": "a5b9ecd4-ca36-4037-b9d2-fbe470476c19"
      },
      "source": [
        "# Your code here\n",
        "if set1 == set6:\n",
        "    print (True)\n",
        "else:\n",
        "    print (False)"
      ],
      "execution_count": null,
      "outputs": [
        {
          "output_type": "stream",
          "text": [
            "False\n"
          ],
          "name": "stdout"
        }
      ]
    },
    {
      "cell_type": "markdown",
      "metadata": {
        "id": "9ZnxerRrV0MQ"
      },
      "source": [
        "#### Check if `set1` contains `set2` using the Python Set `issubset` method. Then check if `set1` contains `set3`.*"
      ]
    },
    {
      "cell_type": "code",
      "metadata": {
        "id": "XzmthmGEV0MR",
        "colab": {
          "base_uri": "https://localhost:8080/"
        },
        "outputId": "c1b7eebc-3577-4d7d-88ae-63e98d1a4564"
      },
      "source": [
        "# Your code here\n",
        "print(set1.issubset(set2))\n",
        "print(set1.issubset(set3))"
      ],
      "execution_count": null,
      "outputs": [
        {
          "output_type": "stream",
          "text": [
            "False\n",
            "False\n"
          ],
          "name": "stdout"
        }
      ]
    },
    {
      "cell_type": "markdown",
      "metadata": {
        "id": "qVr1TiTPV0MR"
      },
      "source": [
        "#### Using the Python Set `union` method, aggregate `set3`, `set4`, and `set5`. Then aggregate `set1` and `set2`. \n",
        "\n",
        "#### Check if the aggregated values are equal."
      ]
    },
    {
      "cell_type": "code",
      "metadata": {
        "id": "Q64x_V0aV0MS",
        "colab": {
          "base_uri": "https://localhost:8080/"
        },
        "outputId": "ac7fb777-f7fe-46e1-916e-10b09aaf252f"
      },
      "source": [
        "# Your code here\n",
        "print('set3 U set4 U set5 =', set3 | set4 | set5)\n",
        "print('set1 U set2 =', set1 | set2)\n",
        "\n",
        "set(['set3 U set4 U set5']) == set(['set1 U set2'])"
      ],
      "execution_count": null,
      "outputs": [
        {
          "output_type": "stream",
          "text": [
            "set3 U set4 U set5 = {0, 2, 3, 4, 5, 6, 7, 8, 9, 10, 11, 12, 13, 15, 16, 17, 18, 19, 20, 21, 22, 23, 24, 25, 26, 27, 28, 30, 31, 33, 35, 36, 37, 38, 39, 40, 41, 42, 43, 45, 46, 47, 48, 49, 50, 51, 52, 53, 54, 55, 56, 57, 59, 60, 61, 62, 63, 64, 65, 66, 67, 68, 69, 70, 72, 73, 74, 75, 76, 77, 78, 79, 80, 81, 83, 84, 88, 89, 90, 91, 92, 93, 94, 95, 96, 97, 98, 99, 101}\n",
            "set1 U set2 = {0, 2, 3, 4, 5, 6, 7, 8, 9, 10, 11, 12, 13, 15, 16, 17, 18, 19, 20, 21, 22, 23, 24, 25, 26, 27, 28, 30, 31, 33, 35, 36, 37, 38, 39, 40, 41, 42, 43, 45, 46, 47, 48, 49, 50, 51, 52, 53, 54, 55, 56, 57, 59, 60, 61, 62, 63, 64, 65, 66, 67, 68, 69, 70, 72, 73, 74, 75, 76, 77, 78, 79, 80, 81, 83, 84, 88, 89, 90, 91, 92, 93, 94, 95, 96, 97, 98, 99, 101}\n"
          ],
          "name": "stdout"
        },
        {
          "output_type": "execute_result",
          "data": {
            "text/plain": [
              "False"
            ]
          },
          "metadata": {
            "tags": []
          },
          "execution_count": 27
        }
      ]
    },
    {
      "cell_type": "markdown",
      "metadata": {
        "id": "DSh3bGTAV0MS"
      },
      "source": [
        "#### Using the `pop` method, remove the first element from `set1`."
      ]
    },
    {
      "cell_type": "code",
      "metadata": {
        "id": "dNQRYrsDV0MS",
        "colab": {
          "base_uri": "https://localhost:8080/"
        },
        "outputId": "071ac9d9-63e8-4345-9d19-6d45956d6970"
      },
      "source": [
        "# Your code here\n",
        "set1.pop()"
      ],
      "execution_count": null,
      "outputs": [
        {
          "output_type": "execute_result",
          "data": {
            "text/plain": [
              "0"
            ]
          },
          "metadata": {
            "tags": []
          },
          "execution_count": 28
        }
      ]
    },
    {
      "cell_type": "markdown",
      "metadata": {
        "id": "jl0a3kCjV0MS"
      },
      "source": [
        "#### Remove every element in the following list from `set1` if they are present in the set. Print the remaining elements.\n",
        "\n",
        "```\n",
        "list_to_remove = [1, 9, 11, 19, 21, 29, 31, 39, 41, 49, 51, 59, 61, 69, 71, 79, 81, 89, 91, 99]\n",
        "```"
      ]
    },
    {
      "cell_type": "code",
      "metadata": {
        "id": "LSD0qvFLV0MT",
        "colab": {
          "base_uri": "https://localhost:8080/"
        },
        "outputId": "c9be2319-595e-4dee-9a64-9ea89bf2edb7"
      },
      "source": [
        "# Your code here\n",
        "list_to_remove = [1, 9, 11, 19, 21, 29, 31, 39, 41, 49, 51, 59, 61, 69, 71, 79, 81, 89, 91, 99]\n",
        "Output = [a for a in set1 if not \n",
        "          any(b in list_to_remove for b in str(a))]\n",
        "print(\"List after removing elements is :\", Output)"
      ],
      "execution_count": null,
      "outputs": [
        {
          "output_type": "stream",
          "text": [
            "List after removing elements is : [2, 3, 4, 5, 6, 7, 8, 9, 10, 11, 12, 13, 15, 17, 18, 19, 20, 22, 23, 24, 26, 27, 28, 31, 33, 35, 36, 37, 38, 39, 40, 41, 42, 43, 45, 46, 48, 49, 51, 52, 53, 54, 55, 56, 59, 60, 61, 62, 63, 64, 65, 67, 68, 69, 70, 72, 73, 74, 75, 76, 77, 78, 79, 80, 81, 83, 84, 88, 89, 90, 91, 92, 93, 94, 95, 96, 97, 98, 99]\n"
          ],
          "name": "stdout"
        }
      ]
    }
  ]
}